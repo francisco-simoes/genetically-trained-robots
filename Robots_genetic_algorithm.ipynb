{
 "cells": [
  {
   "cell_type": "markdown",
   "metadata": {},
   "source": [
    "# The genetic algorithm - pathfinding with robots in a grid"
   ]
  },
  {
   "cell_type": "markdown",
   "metadata": {},
   "source": [
    "### Summary\n",
    "\n",
    "We explore the genetic algorithm in a pathfinding problem: given a virtual robot (at some position $(x,y)$) capable of receiving instructions ('move up', 'move down',...) to move in a 2D grid, what is the set of instructions we should feed it to make it reach the goal $(x', y')$? (We do not care if the path is the shortest or not).   \n",
    "Pathfinding problems are both interesting and useful, but there are many (better) ways to deal with them.\n",
    "Here we use the problem as a way to explore the genetic algorithm, and to see it in action in a geometrical and intuitive problem.  \n",
    "\n",
    "The genetic algorithm mimics natural selection: [Norvig]\n",
    "\n",
    "    1) Start with an *initial population* (of candidates to a solution), each individual having its own set of *genes* (descriptors of the solution proposal);\n",
    "    2) Determine how *fit* (how close they are to truly providing a solution to the problem) the individuals in the population are;\n",
    "    3) *Select* the individuals which are going to reproduce using their fitness levels: the fitter, the more likely to reproduce;\n",
    "    4) Couple the selected individuals in pairs (of *parents*) and generate two *children* for each pair of parents by *crossing over* (mixing) the parents' genes;\n",
    "    5) Introduce a slight *mutation* in the children genes, so that their genes are not just a mix of their parents' genes, and evolution can occur.\n",
    "    6) These children are now the new population. Repeat 2) $\\rightarrow$ 5) until one of the individuals solves the problem (has maximum fitness) or we reach our maximum number of iterations."
   ]
  },
  {
   "cell_type": "code",
   "execution_count": 1,
   "metadata": {},
   "outputs": [],
   "source": [
    "import py\n",
    "import matplotlib.pyplot as plt\n",
    "import numpy as np\n",
    "import random"
   ]
  },
  {
   "cell_type": "markdown",
   "metadata": {},
   "source": [
    "## Defining and visualizing a robot"
   ]
  },
  {
   "cell_type": "markdown",
   "metadata": {},
   "source": [
    "Our \"robots\" must be at a certain position in the grid at all times, and be able to move up. down, left or right (on each step).  \n",
    "We will use a 10x10 grid, meaning that the maximum number of steps one could possibly need to reach one position from another is $(10-1)\\times 2=18$.\n",
    "Accordingly, the set of orders that the a robot must obey will be written as a string of length 18, each character being either 'u', 'd', 'l' or 'r', corresponding to the four directions we want the robot to move in."
   ]
  },
  {
   "cell_type": "code",
   "execution_count": 2,
   "metadata": {},
   "outputs": [],
   "source": [
    "class Robot:\n",
    "    '''\n",
    "    A Robot moves in a 2D 10x10 grid, starting at position (x,y) and following the orders, ending at some other location of the grid.\n",
    "    0<x<9, 0<y<9 are the initial (integer) coordinates.\n",
    "    orders is a string of length 18 composed exclusively of the letters 'u', 'd', 'l', r', corresponding to up, down, left and right.\n",
    "    '''\n",
    "    def __init__(self, x, y, ID, orders):\n",
    "        self.stop = False\n",
    "        self.order_string = orders\n",
    "        self.ID = ID #Number that labels the robot, so that we can refer to its figure.\n",
    "        self.x, self.y = x, y\n",
    "        self.log = np.zeros((10,10)); self.log[x,y] = 1\n",
    "        self.obey(orders)\n",
    "        \n",
    "    def obey(self, orders):\n",
    "        for l in orders:\n",
    "            if l == 'r' and self.x < 9:\n",
    "                self.x += 1\n",
    "            elif l == 'l' and self.x > 0:\n",
    "                self.x -= 1\n",
    "            elif l == 'u' and self.y < 9:\n",
    "                self.y += 1\n",
    "            elif l == 'd' and self.y > 0:\n",
    "                self.y -= 1\n",
    "            self.log[self.x, self.y] += 1\n",
    "        self.log[self.x, self.y] = np.max(self.log) + 2 #Highlights last location.\n"
   ]
  },
  {
   "cell_type": "markdown",
   "metadata": {},
   "source": [
    "Notice that it is not really accurate that a robot is fed orders. Instead, it is \"born\" with them: its orders (a string of the type 'uddllr...rd' of length 18) can be seen as its DNA.  \n",
    "This also means that the trail that the robot leaves can be seen as its fingerprint (it's clear that *usually* different orders lead to different trails). \n",
    "Let us define a function which draws the trail of a robot using a colormap."
   ]
  },
  {
   "cell_type": "code",
   "execution_count": 3,
   "metadata": {},
   "outputs": [],
   "source": [
    "def draw_trail(robot, goal):\n",
    "        array = np.transpose(robot.log)\n",
    "        array[goal] = robot.log[robot.x, robot.y] #Highlights goal.\n",
    "        plt.figure(robot.ID)\n",
    "        plt.title('robot ID: {}'.format(robot.ID))\n",
    "        plt.imshow(array, origin='lower')"
   ]
  },
  {
   "cell_type": "markdown",
   "metadata": {},
   "source": [
    "For each step that a robot is at a certain position, the square at that position becomes brighter (relative to the background) and changes color. The goal and the final position of the robot are the brightest, and colored yellow.\n",
    "\n",
    "We fix the goal at (9,9) from now on, and the initial position of the robots at (0,0).\n",
    "\n",
    "Let's take a look at the trails of two robots."
   ]
  },
  {
   "cell_type": "code",
   "execution_count": 4,
   "metadata": {},
   "outputs": [
    {
     "data": {
      "image/png": "[encoded data removed]",
      "text/plain": [
       "<Figure size 432x288 with 1 Axes>"
      ]
     },
     "metadata": {
      "needs_background": "light"
     },
     "output_type": "display_data"
    },
    {
     "data": {
      "image/png": "[encoded data removed]",
      "text/plain": [
       "<Figure size 432x288 with 1 Axes>"
      ]
     },
     "metadata": {
      "needs_background": "light"
     },
     "output_type": "display_data"
    }
   ],
   "source": [
    "goal = (9, 9)\n",
    "\n",
    "rob = Robot(0,0,0,'uurrrurrddlluuuurrruu')\n",
    "draw_trail(rob, goal)\n",
    "\n",
    "rob = Robot(0,0,1,'rrddddddddruuuuulllluruuuuuuu')\n",
    "draw_trail(rob, goal)"
   ]
  },
  {
   "cell_type": "markdown",
   "metadata": {},
   "source": [
    "We will use the genetic algorithm applied to order strings to arrive at a robot (with a certain order string which works as its DNA in the genetic analogy) which arrives at the goal."
   ]
  },
  {
   "cell_type": "markdown",
   "metadata": {},
   "source": [
    "## Generate initial population of robots."
   ]
  },
  {
   "cell_type": "markdown",
   "metadata": {},
   "source": [
    "Our initial population will be composed of $10$ robots.  \n",
    "Again, we will take all robots to start at $(0,0)$, so that what distinguishes them (their DNA if you will) is their order strings.  "
   ]
  },
  {
   "cell_type": "code",
   "execution_count": 5,
   "metadata": {},
   "outputs": [],
   "source": [
    "#These values will be used throughout the project:\n",
    "global pop_number; global x; global y\n",
    "pop_number = 10\n",
    "x = y = 0\n",
    "\n",
    "global max_steps; global order_string_size; global max_fitness\n",
    "max_steps = order_string_size = max_fitness = 18 #It will be explained later why max_fitness has this value."
   ]
  },
  {
   "cell_type": "code",
   "execution_count": 6,
   "metadata": {},
   "outputs": [],
   "source": [
    "#Let's create the robots.\n",
    "def initialize_robots(x, y, pop_number, draw=False):\n",
    "    '''\n",
    "    Creates a (global) list of pop_number robots with:\n",
    "        initial position (x,y)\n",
    "        ID = {index of the robot in the robots list}\n",
    "        orders a random 18-character string of orders.\n",
    "    If draw is set to True, all robot trails will be drawn.\n",
    "    '''\n",
    "    global robots\n",
    "    robots = []\n",
    "    for ID in range(pop_number):\n",
    "        orders_list = random.choices(['u','d','l','r'], k=order_string_size) #List of random orders.\n",
    "        orders = ''.join(orders_list) #Make it a string.\n",
    "        robots.append(Robot(x, y, ID, orders))\n",
    "    if draw:\n",
    "        for ID in range(len(robots)):\n",
    "            draw_trail(robots[ID], goal)"
   ]
  },
  {
   "cell_type": "code",
   "execution_count": 7,
   "metadata": {},
   "outputs": [],
   "source": [
    "random.seed(1) #To make sure we can discuss the results consistently.\n",
    "initialize_robots(x, y, pop_number)"
   ]
  },
  {
   "cell_type": "markdown",
   "metadata": {},
   "source": [
    "## Distance function, fitness and selection probabilities"
   ]
  },
  {
   "cell_type": "markdown",
   "metadata": {},
   "source": [
    "We have an obvious choice for our fitness score: {max_distance - the distance between the final position of the robot and the goal}, so that the robot closest to the goal has the highest fitness.  \n",
    "It is clear that we do not want to use the Euclidean distance in this project.\n",
    "To see this, consider the image below which represents a miniature (3x3) version of our grid.  "
   ]
  },
  {
   "cell_type": "code",
   "execution_count": 9,
   "metadata": {},
   "outputs": [
    {
     "data": {
      "image/png": "[encoded data removed]",
      "text/plain": [
       "<Figure size 432x288 with 1 Axes>"
      ]
     },
     "metadata": {
      "needs_background": "light"
     },
     "output_type": "display_data"
    }
   ],
   "source": [
    "plt.imshow(np.array([[0,0,0.9],[0,0.3,0],[0,0,1]]), origin='lower', cmap='Paired')\n",
    "#plt.savefig('images/Robots/distance.png')\n",
    "plt.show()"
   ]
  },
  {
   "cell_type": "markdown",
   "metadata": {},
   "source": [
    "Goal = brown; X = green, Y = yellow.  \n",
    "Clearly: {Euclidean distance between X and the goal} < {Euclidean distance between Y and the goal}.  \n",
    "So if we chose this distance for out fitness, we would be preferring Y over X, which makes no sense: both are 2 steps away from reaching the goal!  \n",
    "This means that, since the robots move in a grid (in discrete steps and non-diagonally), we need another notion of distance to the goal which does not distinguish between these X and Y.  \n",
    "There is a distance function $d_1$ that provides just that - we'll call it the \"grid distance\", and is given by:\n",
    "$$\n",
    "d_1(A,B) = \\sum_i |A_i - B_i| = |A_x - B_x| + |A_y - B_y|\n",
    "$$\n",
    "We can use all our usual intuitions about distance since this function has all the usual properties of distances in $\\mathbb R^2$ (more rigorously, $(\\mathbb R^2, d_1)$ is a metric space [Sutherland], and furthermore our grid can be seen as a subset of $\\mathbb R^2$)."
   ]
  },
  {
   "cell_type": "code",
   "execution_count": 59,
   "metadata": {},
   "outputs": [],
   "source": [
    "def d1(X, Y):\n",
    "    '''\n",
    "    The (2D) grid distance between X and Y.\n",
    "    '''\n",
    "    return abs(X[0]-Y[0]) + abs(X[1]-Y[1]) "
   ]
  },
  {
   "cell_type": "code",
   "execution_count": 60,
   "metadata": {},
   "outputs": [],
   "source": [
    "def fitness(robot):\n",
    "    '''\n",
    "    Computes the fitness using the grid distance d1, so that the robot has a higher fitness the closer it is to the goal.\n",
    "    '''\n",
    "    X = (robot.x, robot.y)\n",
    "    return max_steps - d1(X, goal) #The closer to the goal, the higher the fitness."
   ]
  },
  {
   "cell_type": "markdown",
   "metadata": {},
   "source": [
    "Having the fitness function, it is straightforward to define the probability of being selected to reproduce based on the fitness scores of the population in a natural way:\n",
    "$$\n",
    "P_i = \\frac{f_i}{\\sum_j f_j}\n",
    "$$"
   ]
  },
  {
   "cell_type": "code",
   "execution_count": 62,
   "metadata": {},
   "outputs": [],
   "source": [
    "def selection_prob(robot, robots):\n",
    "    '''\n",
    "    Probability of a robot being the selected out of all the robots, based on their fitness scores.\n",
    "    '''\n",
    "    fitnesses = [fitness(robot) for robot in robots]\n",
    "    prob = fitness(robot)/sum(fitnesses)\n",
    "    return prob"
   ]
  },
  {
   "cell_type": "code",
   "execution_count": 63,
   "metadata": {},
   "outputs": [],
   "source": [
    "def selection_probs(robots):\n",
    "    '''\n",
    "    Returns list with the selection probabilities of all the robots.\n",
    "    '''\n",
    "    probs = [selection_prob(robot, robots) for robot in robots]\n",
    "    return probs"
   ]
  },
  {
   "cell_type": "markdown",
   "metadata": {},
   "source": [
    "Let us compute the fitness levels and selection probabilities of the initial population of robots, and visualize their trails to check that the results make sense."
   ]
  },
  {
   "cell_type": "code",
   "execution_count": 72,
   "metadata": {
    "collapsed": true,
    "jupyter": {
     "outputs_hidden": true
    }
   },
   "outputs": [
    {
     "name": "stdout",
     "output_type": "stream",
     "text": [
      "Total probability: 1.0 \n",
      " \n",
      " ==== Initial population of robots: ==== \n",
      "\n"
     ]
    },
    {
     "data": {
      "image/png": "[encoded data removed]",
      "text/plain": [
       "<Figure size 432x288 with 1 Axes>"
      ]
     },
     "metadata": {
      "needs_background": "light"
     },
     "output_type": "display_data"
    },
    {
     "name": "stdout",
     "output_type": "stream",
     "text": [
      "Fitness level: 0, Selection probability: 6\n",
      "\n",
      "\n",
      " \n"
     ]
    },
    {
     "data": {
      "image/png": "[encoded data removed]",
      "text/plain": [
       "<Figure size 432x288 with 1 Axes>"
      ]
     },
     "metadata": {
      "needs_background": "light"
     },
     "output_type": "display_data"
    },
    {
     "name": "stdout",
     "output_type": "stream",
     "text": [
      "Fitness level: 1, Selection probability: 4\n",
      "\n",
      "\n",
      " \n"
     ]
    },
    {
     "data": {
      "image/png": "[encoded data removed]",
      "text/plain": [
       "<Figure size 432x288 with 1 Axes>"
      ]
     },
     "metadata": {
      "needs_background": "light"
     },
     "output_type": "display_data"
    },
    {
     "name": "stdout",
     "output_type": "stream",
     "text": [
      "Fitness level: 2, Selection probability: 2\n",
      "\n",
      "\n",
      " \n"
     ]
    },
    {
     "data": {
      "image/png": "[encoded data removed]",
      "text/plain": [
       "<Figure size 432x288 with 1 Axes>"
      ]
     },
     "metadata": {
      "needs_background": "light"
     },
     "output_type": "display_data"
    },
    {
     "name": "stdout",
     "output_type": "stream",
     "text": [
      "Fitness level: 3, Selection probability: 1\n",
      "\n",
      "\n",
      " \n"
     ]
    },
    {
     "data": {
      "image/png": "[encoded data removed]",
      "text/plain": [
       "<Figure size 432x288 with 1 Axes>"
      ]
     },
     "metadata": {
      "needs_background": "light"
     },
     "output_type": "display_data"
    },
    {
     "name": "stdout",
     "output_type": "stream",
     "text": [
      "Fitness level: 4, Selection probability: 0\n",
      "\n",
      "\n",
      " \n"
     ]
    },
    {
     "data": {
      "image/png": "[encoded data removed]",
      "text/plain": [
       "<Figure size 432x288 with 1 Axes>"
      ]
     },
     "metadata": {
      "needs_background": "light"
     },
     "output_type": "display_data"
    },
    {
     "name": "stdout",
     "output_type": "stream",
     "text": [
      "Fitness level: 5, Selection probability: 1\n",
      "\n",
      "\n",
      " \n"
     ]
    },
    {
     "data": {
      "image/png": "[encoded data removed]",
      "text/plain": [
       "<Figure size 432x288 with 1 Axes>"
      ]
     },
     "metadata": {
      "needs_background": "light"
     },
     "output_type": "display_data"
    },
    {
     "name": "stdout",
     "output_type": "stream",
     "text": [
      "Fitness level: 6, Selection probability: 9\n",
      "\n",
      "\n",
      " \n"
     ]
    },
    {
     "data": {
      "image/png": "[encoded data removed]",
      "text/plain": [
       "<Figure size 432x288 with 1 Axes>"
      ]
     },
     "metadata": {
      "needs_background": "light"
     },
     "output_type": "display_data"
    },
    {
     "name": "stdout",
     "output_type": "stream",
     "text": [
      "Fitness level: 7, Selection probability: 1\n",
      "\n",
      "\n",
      " \n"
     ]
    },
    {
     "data": {
      "image/png": "[encoded data removed]",
      "text/plain": [
       "<Figure size 432x288 with 1 Axes>"
      ]
     },
     "metadata": {
      "needs_background": "light"
     },
     "output_type": "display_data"
    },
    {
     "name": "stdout",
     "output_type": "stream",
     "text": [
      "Fitness level: 8, Selection probability: 8\n",
      "\n",
      "\n",
      " \n"
     ]
    },
    {
     "data": {
      "image/png": "[encoded data removed]",
      "text/plain": [
       "<Figure size 432x288 with 1 Axes>"
      ]
     },
     "metadata": {
      "needs_background": "light"
     },
     "output_type": "display_data"
    },
    {
     "name": "stdout",
     "output_type": "stream",
     "text": [
      "Fitness level: 9, Selection probability: 4\n",
      "\n",
      "\n",
      " \n"
     ]
    }
   ],
   "source": [
    "print( 'Total probability: {} \\n \\n ==== Initial population of robots: ==== \\n'.format(sum(selection_probs(robots))) )\n",
    "for ID in range(pop_number):\n",
    "    robot = robots[ID]\n",
    "    draw_trail(robot, goal)\n",
    "    plt.show()\n",
    "    print('Fitness level: {}, Selection probability: {}'.format(ID, fitness(robot), selection_prob(robot, robots)))\n",
    "    print('\\n\\n ')"
   ]
  },
  {
   "cell_type": "markdown",
   "metadata": {},
   "source": [
    "Notice that robots 6 and 8 have the highest selection probabilities, and indeed they are the closest robots to the goal."
   ]
  },
  {
   "cell_type": "markdown",
   "metadata": {},
   "source": [
    "## Selection"
   ]
  },
  {
   "cell_type": "code",
   "execution_count": 73,
   "metadata": {},
   "outputs": [
    {
     "name": "stdout",
     "output_type": "stream",
     "text": [
      "Chosen IDs: [0, 8, 8, 1, 6, 6, 7, 8, 0, 0]\n"
     ]
    }
   ],
   "source": [
    "def selection(robots):\n",
    "    '''\n",
    "    robots is list with N entries containing one generation of robots (a population of robots).\n",
    "    Returns a tuple:\n",
    "        List of N robots, chosen according to their fitness: more fit --> more probable to be selected.\n",
    "        List of IDs of the chosen robots.\n",
    "    '''\n",
    "    probs = selection_probs(robots) #Selection probabilities from fitness scores.\n",
    "    indices = range(len(robots)) #Will choose indices (IDs) instead of robots directly, so that it's easy and efficient to know the chosen IDs.\n",
    "    #Choice with replacement, to select robots on fitness:\n",
    "    chosen_IDs = random.choices( population=indices, weights=probs, k=pop_number ) \n",
    "    chosen_robots = [robots[ID] for ID in chosen_IDs]\n",
    "    return chosen_robots, chosen_IDs\n",
    "\n",
    "random.seed(1) #To make sure we can discuss the results consistently.\n",
    "print('Chosen IDs:', selection(robots)[1])"
   ]
  },
  {
   "cell_type": "markdown",
   "metadata": {},
   "source": [
    "Unsurprisingly, robots 6 and 8 are often chosen."
   ]
  },
  {
   "cell_type": "markdown",
   "metadata": {},
   "source": [
    "## Crossover"
   ]
  },
  {
   "cell_type": "markdown",
   "metadata": {},
   "source": [
    "Each pair of selected robots will have two children, each of them getting part of their order string from one parent, and part from the other.  \n",
    "The amount taken from each parent is randomly selected."
   ]
  },
  {
   "cell_type": "code",
   "execution_count": 74,
   "metadata": {},
   "outputs": [
    {
     "name": "stdout",
     "output_type": "stream",
     "text": [
      "Example: \n",
      " Parent 1 order string: urrdddlruurdrudlur \n",
      " Parent 2 order string: ruulrduduudduuuddu \n",
      " Child 1 order string: urrdrduduudduuuddu \n",
      " Child 2 order string: ruulddlruurdrudlur\n"
     ]
    }
   ],
   "source": [
    "def create_children(parent1, parent2, ID1, ID2):\n",
    "    '''\n",
    "    Each parent is an object of the class Robot.\n",
    "    Returns a pair (tuple) of child robots (with identity numbers ID1, ID2) by crossing over the genetic information (the order strings) of the parents.\n",
    "    '''\n",
    "    cutoff = random.randint(0, order_string_size)\n",
    "    #Create first child:\n",
    "    contribution_1 = parent1.order_string[0:cutoff]\n",
    "    contribution_2 = parent2.order_string[cutoff:order_string_size]\n",
    "    orders = contribution_1 + contribution_2\n",
    "    child1 = Robot(x, y, ID1, orders)\n",
    "    #Create second child (reusing the cutoff):\n",
    "    contribution_1 = parent2.order_string[0:cutoff]\n",
    "    contribution_2 = parent1.order_string[cutoff:order_string_size]\n",
    "    orders = contribution_1 + contribution_2\n",
    "    child2 = Robot(x, y, ID2, orders)\n",
    "    return child1, child2\n",
    "\n",
    "#Example:\n",
    "random.seed(1) #To make sure we can discuss the results consistently.\n",
    "child_example1, child_example2 = create_children(robots[0], robots[1], 500, 1000)\n",
    "print('Example: \\n Parent 1 order string: {} \\n Parent 2 order string: {} \\n Child 1 order string: {} \\n Child 2 order string: {}'.format(robots[0].order_string, robots[1].order_string, child_example1.order_string, child_example2.order_string))"
   ]
  },
  {
   "cell_type": "markdown",
   "metadata": {},
   "source": [
    "## Mutation"
   ]
  },
  {
   "cell_type": "markdown",
   "metadata": {},
   "source": [
    "We will randomly mutate one gene of each child.  \n",
    "To that end, we must first define a function that mutates a robot.  \n",
    "The mutation will change a single (randomly chosen) gene"
   ]
  },
  {
   "cell_type": "code",
   "execution_count": 93,
   "metadata": {},
   "outputs": [],
   "source": [
    "def mutate(robot):\n",
    "    '''\n",
    "    Returns the same\" robot but with a single gene (one character of the order string) randomly mutated.\n",
    "    The mutated gene is also randomly selected.\n",
    "    '''\n",
    "    #Original DNA:\n",
    "    order_string = robot.order_string\n",
    "    #Choose random gene to mutate:\n",
    "    i = random.randint(0, len(order_string)-1)\n",
    "    gene = order_string[i]\n",
    "    #Mutate gene:\n",
    "    gene = random.choice(['u', 'd', 'l', 'r']) #Notice the gene can actually remain unmutated.\n",
    "    #Change DNA:\n",
    "    order_list = list(order_string) #Lists are easier and more officient to handle when assigning values.\n",
    "    order_list[i] = gene\n",
    "    mutated_order_string = ''.join(order_list)\n",
    "    #Create mutated robot, with same ID as the original:\n",
    "    mutated_robot = Robot(x, y, robot.ID, mutated_order_string)\n",
    "    return mutated_robot"
   ]
  },
  {
   "cell_type": "code",
   "execution_count": 94,
   "metadata": {},
   "outputs": [
    {
     "name": "stdout",
     "output_type": "stream",
     "text": [
      "Original:  urlurrurrrrrldulud\n",
      "Mutated:  urluururrrrrldulud\n"
     ]
    }
   ],
   "source": [
    "#Example:\n",
    "random.seed(1) #To make sure we can discuss the results consistently.\n",
    "print('Original: ', robots[0].order_string)\n",
    "print('Mutated: ',mutate(robots[0]).order_string)"
   ]
  },
  {
   "cell_type": "markdown",
   "metadata": {},
   "source": [
    "Notice that it was the second 'r' that mutated into a 'u'."
   ]
  },
  {
   "cell_type": "markdown",
   "metadata": {},
   "source": [
    "## The loop: evolving the robots"
   ]
  },
  {
   "cell_type": "code",
   "execution_count": 124,
   "metadata": {},
   "outputs": [
    {
     "name": "stdout",
     "output_type": "stream",
     "text": [
      "iterations: 0, best fitness: 9, best distance to goal: 9\n"
     ]
    },
    {
     "data": {
      "image/png": "[encoded data removed]",
      "text/plain": [
       "<Figure size 432x288 with 1 Axes>"
      ]
     },
     "metadata": {
      "needs_background": "light"
     },
     "output_type": "display_data"
    },
    {
     "name": "stdout",
     "output_type": "stream",
     "text": [
      "iterations: 5, best fitness: 9, best distance to goal: 9\n",
      "iterations: 10, best fitness: 10, best distance to goal: 8\n",
      "iterations: 15, best fitness: 9, best distance to goal: 9\n",
      "iterations: 20, best fitness: 9, best distance to goal: 9\n"
     ]
    },
    {
     "data": {
      "image/png": "[encoded data removed]",
      "text/plain": [
       "<Figure size 432x288 with 1 Axes>"
      ]
     },
     "metadata": {
      "needs_background": "light"
     },
     "output_type": "display_data"
    },
    {
     "name": "stdout",
     "output_type": "stream",
     "text": [
      "iterations: 25, best fitness: 10, best distance to goal: 8\n",
      "iterations: 30, best fitness: 11, best distance to goal: 7\n",
      "iterations: 35, best fitness: 14, best distance to goal: 4\n",
      "iterations: 40, best fitness: 15, best distance to goal: 3\n"
     ]
    },
    {
     "data": {
      "image/png": "[encoded data removed]",
      "text/plain": [
       "<Figure size 432x288 with 1 Axes>"
      ]
     },
     "metadata": {
      "needs_background": "light"
     },
     "output_type": "display_data"
    },
    {
     "name": "stdout",
     "output_type": "stream",
     "text": [
      "iterations: 45, best fitness: 15, best distance to goal: 3\n",
      "iterations: 50, best fitness: 16, best distance to goal: 2\n",
      "iterations: 55, best fitness: 13, best distance to goal: 5\n",
      "iterations: 60, best fitness: 15, best distance to goal: 3\n"
     ]
    },
    {
     "data": {
      "image/png": "[encoded data removed]",
      "text/plain": [
       "<Figure size 432x288 with 1 Axes>"
      ]
     },
     "metadata": {
      "needs_background": "light"
     },
     "output_type": "display_data"
    },
    {
     "name": "stdout",
     "output_type": "stream",
     "text": [
      "iterations: 65, best fitness: 15, best distance to goal: 3\n",
      "iterations: 70, best fitness: 15, best distance to goal: 3\n",
      "iterations: 75, best fitness: 13, best distance to goal: 5\n",
      "iterations: 80, best fitness: 12, best distance to goal: 6\n"
     ]
    },
    {
     "data": {
      "image/png": "[encoded data removed]",
      "text/plain": [
       "<Figure size 432x288 with 1 Axes>"
      ]
     },
     "metadata": {
      "needs_background": "light"
     },
     "output_type": "display_data"
    },
    {
     "name": "stdout",
     "output_type": "stream",
     "text": [
      "iterations: 85, best fitness: 13, best distance to goal: 5\n",
      "iterations: 90, best fitness: 14, best distance to goal: 4\n",
      "iterations: 95, best fitness: 11, best distance to goal: 7\n",
      "iterations: 100, best fitness: 12, best distance to goal: 6\n"
     ]
    },
    {
     "data": {
      "image/png": "[encoded data removed]",
      "text/plain": [
       "<Figure size 432x288 with 1 Axes>"
      ]
     },
     "metadata": {
      "needs_background": "light"
     },
     "output_type": "display_data"
    },
    {
     "name": "stdout",
     "output_type": "stream",
     "text": [
      "iterations: 105, best fitness: 15, best distance to goal: 3\n",
      "iterations: 110, best fitness: 14, best distance to goal: 4\n",
      "iterations: 115, best fitness: 14, best distance to goal: 4\n",
      "iterations: 120, best fitness: 16, best distance to goal: 2\n"
     ]
    },
    {
     "data": {
      "image/png": "[encoded data removed]",
      "text/plain": [
       "<Figure size 432x288 with 1 Axes>"
      ]
     },
     "metadata": {
      "needs_background": "light"
     },
     "output_type": "display_data"
    },
    {
     "name": "stdout",
     "output_type": "stream",
     "text": [
      "iterations: 125, best fitness: 14, best distance to goal: 4\n",
      "iterations: 130, best fitness: 14, best distance to goal: 4\n",
      "iterations: 135, best fitness: 15, best distance to goal: 3\n",
      "Total iterations: 139, Final best fitness: 18, Final best distance to goal: 0\n"
     ]
    },
    {
     "data": {
      "image/png": "[encoded data removed]",
      "text/plain": [
       "<Figure size 432x288 with 1 Axes>"
      ]
     },
     "metadata": {
      "needs_background": "light"
     },
     "output_type": "display_data"
    }
   ],
   "source": [
    "random.seed(1)\n",
    "initialize_robots(x, y, pop_number)\n",
    "\n",
    "#I will store all the robot generations in a list so that it is easy to analyze the results and observe the evolution throughout the generations.\n",
    "robot_gens = []\n",
    "\n",
    "#Initialize best fitness.\n",
    "fitness_levels = [fitness(robot) for robot in robots]\n",
    "best_robot_fitness = max(fitness_levels)\n",
    "\n",
    "fitness_log = [] #Will be used to plot the (best) fitness against iters.\n",
    "\n",
    "iters = 0\n",
    "max_iters = 200\n",
    "while best_robot_fitness < max_fitness and iters <= max_iters: #That is, while no robot finishes at the goal position.\n",
    "    ########\n",
    "    #Print iterations and fitness info every 5 iterations:\n",
    "    if iters%5 == 0: \n",
    "        print('iterations: {}, best fitness: {}, best distance to goal: {}'.format(iters, best_robot_fitness, 18-best_robot_fitness))\n",
    "        #Visualize the best robot every 20 iterations. (Notice that this sits well inside the other if statement since 20%5==0)\n",
    "        if iters%20 == 0:\n",
    "            #Get the best robot of this generation:\n",
    "            best_robot_index = fitness_levels.index(best_robot_fitness)\n",
    "            best_robot = robots[best_robot_index]\n",
    "            #Draw its trail:\n",
    "            draw_trail(best_robot, goal)\n",
    "            #plt.savefig('images/Robots/BestRobot{}.png'.format(iters))\n",
    "            plt.show()\n",
    "    robot_gens.append(robots) #Add current generation (population) to the dictionary of robot generations.\n",
    "    #######\n",
    "    #Selection of the fittest:\n",
    "    selected_robots = selection(robots)[0]\n",
    "    #Create children:\n",
    "    for j in range(pop_number//2): #Will have pop_number/2 pairs of parents.\n",
    "        parent1 = selected_robots[j]\n",
    "        parent2 = selected_robots[pop_number//2 + j] #Easy way to select parents without (explicit) repetition.\n",
    "        ID1, ID2 = j, pop_number//2 + j #Children will have same IDs as parents (in selected_robots, not robots - but it doesn't matter since len(selected_robots)=len(robots).\n",
    "        child1, child2 = create_children(parent1, parent2, ID1, ID2)\n",
    "        ########\n",
    "        #Mutation\n",
    "        child1, child2 = mutate(child1), mutate(child2)\n",
    "        #Update robots list to included new (mutated) generation.\n",
    "        robots[ID1], robots[ID2] = child1, child2\n",
    "    ########\n",
    "    #Update max_fitness:\n",
    "    fitness_levels = [fitness(robot) for robot in robots]\n",
    "    best_robot_fitness = max(fitness_levels)\n",
    "    fitness_log.append(best_robot_fitness)\n",
    "    ########\n",
    "    #Update iters:\n",
    "    iters += 1\n",
    "#Get the best robot the final generation.\n",
    "best_robot_index = fitness_levels.index(best_robot_fitness)\n",
    "best_robot = robots[best_robot_index]\n",
    "#Draw its trail:\n",
    "print('Total iterations: {}, Final best fitness: {}, Final best distance to goal: {}'.format(iters, best_robot_fitness, 18-best_robot_fitness))\n",
    "draw_trail(best_robot, goal)\n",
    "#plt.savefig('images/Robots/BestRobot{}.png'.format(iters))\n",
    "plt.show()"
   ]
  },
  {
   "cell_type": "code",
   "execution_count": 126,
   "metadata": {},
   "outputs": [
    {
     "data": {
      "image/png": "[encoded data removed]",
      "text/plain": [
       "<Figure size 432x288 with 1 Axes>"
      ]
     },
     "metadata": {
      "needs_background": "light"
     },
     "output_type": "display_data"
    }
   ],
   "source": [
    "plt.figure()\n",
    "plt.title('Top fitness against generation number')\n",
    "plt.xlabel('generation')\n",
    "plt.ylabel('fitness of the best robot')\n",
    "plt.plot(range(iters), fitness_log)\n",
    "plt.hlines(18, 0, 140, label='goal', colors='r', linestyles='--')\n",
    "plt.legend(loc='lower right')\n",
    "plt.savefig('images/Robots/fitness_plot.png')\n",
    "plt.show()"
   ]
  },
  {
   "cell_type": "markdown",
   "metadata": {},
   "source": [
    "**Note**: We can use robot_gens to easily access a specific robot. np.array(robot_gens) has as many rows as there were iterations (generations), and as many columns as there ere individuals on each generation (notice that in our implementation of the genetic algorithm the population number remains constant)."
   ]
  },
  {
   "cell_type": "code",
   "execution_count": 113,
   "metadata": {},
   "outputs": [
    {
     "name": "stdout",
     "output_type": "stream",
     "text": [
      "Shape of robot_gens: (139, 10)\n"
     ]
    },
    {
     "data": {
      "image/png": "[encoded data removed]",
      "text/plain": [
       "<Figure size 432x288 with 1 Axes>"
      ]
     },
     "metadata": {
      "needs_background": "light"
     },
     "output_type": "display_data"
    }
   ],
   "source": [
    "print('Shape of robot_gens:', np.array(robot_gens).shape)\n",
    "#Let's see the trail for the sixth robot of the 100th generation.\n",
    "draw_trail(robot_gens[100][5],goal)"
   ]
  },
  {
   "cell_type": "markdown",
   "metadata": {},
   "source": [
    "## References\n",
    "\n",
    "- [Norvig]: Russell, Stuart J., and Peter Norvig. *Artificial intelligence: a modern approach*. Malaysia; Pearson Education Limited,, 2016.\n",
    "- [Sutherland]: Sutherland, Wilson A. Introduction to metric and topological spaces. Oxford University Press, 2009."
   ]
  }
 ],
 "metadata": {
  "kernelspec": {
   "display_name": "Python 3",
   "language": "python",
   "name": "python3"
  },
  "language_info": {
   "codemirror_mode": {
    "name": "ipython",
    "version": 3
   },
   "file_extension": ".py",
   "mimetype": "text/x-python",
   "name": "python",
   "nbconvert_exporter": "python",
   "pygments_lexer": "ipython3",
   "version": "3.7.4"
  }
 },
 "nbformat": 4,
 "nbformat_minor": 4
}
