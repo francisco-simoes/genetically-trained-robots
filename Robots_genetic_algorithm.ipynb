{
 "cells": [
  {
   "cell_type": "code",
   "execution_count": 1,
   "metadata": {},
   "outputs": [],
   "source": [
    "import random\n",
    "import py\n",
    "import matplotlib.pyplot as plt\n",
    "import numpy as np\n",
    "import random"
   ]
  },
  {
   "cell_type": "code",
   "execution_count": 2,
   "metadata": {},
   "outputs": [],
   "source": [
    "class Robot:\n",
    "    def __init__(self, x, y, ID, orders):\n",
    "        self.stop = False\n",
    "        self.order_string = orders\n",
    "        self.ID = ID #Number that labels the robot, so that we can refer to its figure.\n",
    "        self.x, self.y = x, y\n",
    "        self.log = np.zeros((10,10)); self.log[x,y] = 1\n",
    "        self.obey(orders)\n",
    "        \n",
    "    def obey(self, orders):\n",
    "        for l in orders:\n",
    "            if l == 'r' and self.x < 9:\n",
    "                self.x += 1\n",
    "            elif l == 'l' and self.x > 0:\n",
    "                self.x -= 1\n",
    "            elif l == 'u' and self.y < 9:\n",
    "                self.y += 1\n",
    "            elif l == 'd' and self.y > 0:\n",
    "                self.y -= 1\n",
    "            self.log[self.x, self.y] += 1\n",
    "        #print('current location: ({},{})'.format(self.x, self.y))\n",
    "        self.log[self.x, self.y] = np.max(self.log) + 2 #Highlights last location.\n"
   ]
  },
  {
   "cell_type": "code",
   "execution_count": 3,
   "metadata": {},
   "outputs": [],
   "source": [
    "def draw_trail(robot, goal):\n",
    "        array = np.transpose(robot.log)\n",
    "        array[goal] = robot.log[robot.x, robot.y] #Highlights goal.\n",
    "        plt.figure(robot.ID)\n",
    "        plt.imshow(array, origin='lower')"
   ]
  },
  {
   "cell_type": "code",
   "execution_count": 4,
   "metadata": {},
   "outputs": [
    {
     "data": {
      "image/png": "[encoded data removed]",
      "text/plain": [
       "<Figure size 432x288 with 1 Axes>"
      ]
     },
     "metadata": {
      "needs_background": "light"
     },
     "output_type": "display_data"
    },
    {
     "data": {
      "image/png": "[encoded data removed]",
      "text/plain": [
       "<Figure size 432x288 with 1 Axes>"
      ]
     },
     "metadata": {
      "needs_background": "light"
     },
     "output_type": "display_data"
    }
   ],
   "source": [
    "goal = (9, 9)\n",
    "\n",
    "rob = Robot(0,0,0,'uurrrurrddlluuuurrruu')\n",
    "draw_trail(rob, goal)\n",
    "\n",
    "rob = Robot(0,0,1,'rrddddddddruuuuulllluruuuuuuu')\n",
    "draw_trail(rob, goal)"
   ]
  },
  {
   "cell_type": "markdown",
   "metadata": {},
   "source": [
    "We will use the genetic algorithm applied to order strings to arrive at a robot (with a certain order string which works as its DNA in the genetic analogy) which arrives at a specific goal."
   ]
  },
  {
   "cell_type": "markdown",
   "metadata": {},
   "source": [
    "## Generate initial population of robots."
   ]
  },
  {
   "cell_type": "markdown",
   "metadata": {},
   "source": [
    "Our initial population will be composed of $100$ robots.  \n",
    "We will take all robots to start at $(0,0)$, so that what distinguishes them (their DNA if you will) is their order strings.  \n",
    "These will be strings of length $18$ composed of the characters 'u', 'd', 'l' and 'r'.\n",
    "\n",
    "Note: $18$ because no two positions are more than $18$ steps apart in our $10\\times 10$ grid."
   ]
  },
  {
   "cell_type": "code",
   "execution_count": 5,
   "metadata": {},
   "outputs": [
    {
     "data": {
      "text/plain": [
       "'ldlddllrdddldlduud'"
      ]
     },
     "execution_count": 5,
     "metadata": {},
     "output_type": "execute_result"
    }
   ],
   "source": [
    "''.join(random.choices(['u','d','l','r'], k=18))"
   ]
  },
  {
   "cell_type": "code",
   "execution_count": 6,
   "metadata": {},
   "outputs": [],
   "source": [
    "pop_number = 10\n",
    "max_steps = order_string_size = max_fitness = 18 #It will be explained later whi max_fitness has this value.\n",
    "x = y = 0\n",
    "\n",
    "random.seed(1) #To make sure we can discuss the results consistently.\n",
    "#Let's create the robots.\n",
    "def initialize_robots():\n",
    "    global robots\n",
    "    robots = []\n",
    "    for ID in range(pop_number):\n",
    "        orders_list = random.choices(['u','d','l','r'], k=order_string_size) #List of random orders.\n",
    "        orders = ''.join(orders_list) #Make it a string.\n",
    "        robots.append(Robot(x, y, ID, orders))\n",
    "        #draw_trail(robots[ID], goal)\n",
    "\n",
    "initialize_robots()"
   ]
  },
  {
   "cell_type": "markdown",
   "metadata": {},
   "source": [
    "## Distance function, fitness and selection probabilities"
   ]
  },
  {
   "cell_type": "code",
   "execution_count": 7,
   "metadata": {},
   "outputs": [],
   "source": [
    "def d1(X, Y):\n",
    "    return abs(X[0]-Y[0]) + abs(X[1]-Y[1]) "
   ]
  },
  {
   "cell_type": "code",
   "execution_count": 8,
   "metadata": {},
   "outputs": [],
   "source": [
    "def fitness(robot):\n",
    "    X = (robot.x, robot.y)\n",
    "    return max_steps - d1(X, goal) #The closer to the goal, the higher the fitness."
   ]
  },
  {
   "cell_type": "code",
   "execution_count": 9,
   "metadata": {},
   "outputs": [],
   "source": [
    "def selection_prob(robot, robots):\n",
    "    fitnesses = [fitness(robot) for robot in robots]\n",
    "    prob = fitness(robot)/sum(fitnesses)\n",
    "    return prob"
   ]
  },
  {
   "cell_type": "code",
   "execution_count": 10,
   "metadata": {},
   "outputs": [],
   "source": [
    "def selection_probs(robots):\n",
    "    probs = [selection_prob(robot, robots) for robot in robots]\n",
    "    return probs"
   ]
  },
  {
   "cell_type": "code",
   "execution_count": 11,
   "metadata": {
    "collapsed": true,
    "jupyter": {
     "outputs_hidden": true
    }
   },
   "outputs": [
    {
     "name": "stdout",
     "output_type": "stream",
     "text": [
      "Total probability: 1.0 \n",
      " \n",
      " ==== Robots: === \n",
      "\n",
      "ID: 0, Fitness level: 6, Selection probability: 0.16666666666666666\n"
     ]
    },
    {
     "data": {
      "image/png": "[encoded data removed]",
      "text/plain": [
       "<Figure size 432x288 with 1 Axes>"
      ]
     },
     "metadata": {
      "needs_background": "light"
     },
     "output_type": "display_data"
    },
    {
     "name": "stdout",
     "output_type": "stream",
     "text": [
      "ID: 1, Fitness level: 4, Selection probability: 0.1111111111111111\n"
     ]
    },
    {
     "data": {
      "image/png": "[encoded data removed]",
      "text/plain": [
       "<Figure size 432x288 with 1 Axes>"
      ]
     },
     "metadata": {
      "needs_background": "light"
     },
     "output_type": "display_data"
    },
    {
     "name": "stdout",
     "output_type": "stream",
     "text": [
      "ID: 2, Fitness level: 2, Selection probability: 0.05555555555555555\n"
     ]
    },
    {
     "data": {
      "image/png": "[encoded data removed]",
      "text/plain": [
       "<Figure size 432x288 with 1 Axes>"
      ]
     },
     "metadata": {
      "needs_background": "light"
     },
     "output_type": "display_data"
    },
    {
     "name": "stdout",
     "output_type": "stream",
     "text": [
      "ID: 3, Fitness level: 1, Selection probability: 0.027777777777777776\n"
     ]
    },
    {
     "data": {
      "image/png": "[encoded data removed]",
      "text/plain": [
       "<Figure size 432x288 with 1 Axes>"
      ]
     },
     "metadata": {
      "needs_background": "light"
     },
     "output_type": "display_data"
    },
    {
     "name": "stdout",
     "output_type": "stream",
     "text": [
      "ID: 4, Fitness level: 0, Selection probability: 0.0\n"
     ]
    },
    {
     "data": {
      "image/png": "[encoded data removed]",
      "text/plain": [
       "<Figure size 432x288 with 1 Axes>"
      ]
     },
     "metadata": {
      "needs_background": "light"
     },
     "output_type": "display_data"
    },
    {
     "name": "stdout",
     "output_type": "stream",
     "text": [
      "ID: 5, Fitness level: 1, Selection probability: 0.027777777777777776\n"
     ]
    },
    {
     "data": {
      "image/png": "[encoded data removed]",
      "text/plain": [
       "<Figure size 432x288 with 1 Axes>"
      ]
     },
     "metadata": {
      "needs_background": "light"
     },
     "output_type": "display_data"
    },
    {
     "name": "stdout",
     "output_type": "stream",
     "text": [
      "ID: 6, Fitness level: 9, Selection probability: 0.25\n"
     ]
    },
    {
     "data": {
      "image/png": "[encoded data removed]",
      "text/plain": [
       "<Figure size 432x288 with 1 Axes>"
      ]
     },
     "metadata": {
      "needs_background": "light"
     },
     "output_type": "display_data"
    },
    {
     "name": "stdout",
     "output_type": "stream",
     "text": [
      "ID: 7, Fitness level: 1, Selection probability: 0.027777777777777776\n"
     ]
    },
    {
     "data": {
      "image/png": "[encoded data removed]",
      "text/plain": [
       "<Figure size 432x288 with 1 Axes>"
      ]
     },
     "metadata": {
      "needs_background": "light"
     },
     "output_type": "display_data"
    },
    {
     "name": "stdout",
     "output_type": "stream",
     "text": [
      "ID: 8, Fitness level: 8, Selection probability: 0.2222222222222222\n"
     ]
    },
    {
     "data": {
      "image/png": "[encoded data removed]",
      "text/plain": [
       "<Figure size 432x288 with 1 Axes>"
      ]
     },
     "metadata": {
      "needs_background": "light"
     },
     "output_type": "display_data"
    },
    {
     "name": "stdout",
     "output_type": "stream",
     "text": [
      "ID: 9, Fitness level: 4, Selection probability: 0.1111111111111111\n"
     ]
    },
    {
     "data": {
      "image/png": "[encoded data removed]",
      "text/plain": [
       "<Figure size 432x288 with 1 Axes>"
      ]
     },
     "metadata": {
      "needs_background": "light"
     },
     "output_type": "display_data"
    }
   ],
   "source": [
    "print( 'Total probability: {} \\n \\n ==== Robots: === \\n'.format(sum(selection_probs(robots))) )\n",
    "for ID in range(pop_number):\n",
    "    robot = robots[ID]\n",
    "    draw_trail(robot, goal)\n",
    "    print('ID: {}, Fitness level: {}, Selection probability: {}'.format(ID, fitness(robot), selection_prob(robot, robots)))\n",
    "    plt.show()"
   ]
  },
  {
   "cell_type": "markdown",
   "metadata": {},
   "source": [
    "Notice that robots 6 and 8 have the highest selection probabilities."
   ]
  },
  {
   "cell_type": "markdown",
   "metadata": {},
   "source": [
    "## Selection"
   ]
  },
  {
   "cell_type": "code",
   "execution_count": 12,
   "metadata": {},
   "outputs": [
    {
     "name": "stdout",
     "output_type": "stream",
     "text": [
      "Chosen IDs: [0, 8, 8, 1, 6, 6, 7, 8, 0, 0]\n"
     ]
    }
   ],
   "source": [
    "random.seed(1) #To make sure we can discuss the results consistently.\n",
    "def selection(robots):\n",
    "    '''\n",
    "    robots is list with N entries containing one generation of robots (a population of robots).\n",
    "    Returns a tuple:\n",
    "        List of N robots, chosen according to their fitness: more fit --> more probable to be selected.\n",
    "        List of IDs of the chosen robots.\n",
    "    '''\n",
    "    probs = selection_probs(robots) #Selection probabilities from fitness scores.\n",
    "    indices = range(len(robots)) #Will choose indices (IDs) instead of robots directly, so that it's easy and efficient to know the chosen IDs.\n",
    "    #Choice with replacement, to select robots on fitness:\n",
    "    chosen_IDs = random.choices( population=indices, weights=probs, k=pop_number ) \n",
    "    chosen_robots = [robots[ID] for ID in chosen_IDs]\n",
    "    return chosen_robots, chosen_IDs\n",
    "\n",
    "print('Chosen IDs:', selection(robots)[1])"
   ]
  },
  {
   "cell_type": "markdown",
   "metadata": {},
   "source": [
    "Unsurprisingly, robots 6 and 8 are often chosen."
   ]
  },
  {
   "cell_type": "markdown",
   "metadata": {},
   "source": [
    "## Crossover"
   ]
  },
  {
   "cell_type": "markdown",
   "metadata": {},
   "source": [
    "Each pair of selected robots will have two children, each of them getting part of their order string (analogous to DNA) from one parent, and part from the other.  \n",
    "The amount selected from each parent is randomly selected."
   ]
  },
  {
   "cell_type": "code",
   "execution_count": 13,
   "metadata": {},
   "outputs": [
    {
     "name": "stdout",
     "output_type": "stream",
     "text": [
      "Example: \n",
      " Parent 1 order string: urrdddlruurdrudlur \n",
      " Parent 2 order string: ruulrduduudduuuddu \n",
      " Child 1 order string: urrdrduduudduuuddu \n",
      " Child 2 order string: ruulddlruurdrudlur\n"
     ]
    }
   ],
   "source": [
    "random.seed(1)\n",
    "def create_children(parent1, parent2, ID1, ID2):\n",
    "    '''\n",
    "    Each parent is an object of the class Robot.\n",
    "    Returns a pair (tuple) of child robots (with identity numbers ID1, ID2) by crossing over the genetic information (the order strings) of the parents.\n",
    "    '''\n",
    "    cutoff = random.randint(0, order_string_size)\n",
    "    #Create first child:\n",
    "    contribution_1 = parent1.order_string[0:cutoff]\n",
    "    contribution_2 = parent2.order_string[cutoff:order_string_size]\n",
    "    orders = contribution_1 + contribution_2\n",
    "    child1 = Robot(x, y, ID1, orders)\n",
    "    #Create second child (reusing the cutoff):\n",
    "    contribution_1 = parent2.order_string[0:cutoff]\n",
    "    contribution_2 = parent1.order_string[cutoff:order_string_size]\n",
    "    orders = contribution_1 + contribution_2\n",
    "    child2 = Robot(x, y, ID2, orders)\n",
    "    return child1, child2\n",
    "\n",
    "#Example:\n",
    "child_example1, child_example2 = create_children(robots[0], robots[1], 500, 1000)\n",
    "print('Example: \\n Parent 1 order string: {} \\n Parent 2 order string: {} \\n Child 1 order string: {} \\n Child 2 order string: {}'.format(robots[0].order_string, robots[1].order_string, child_example1.order_string, child_example2.order_string))"
   ]
  },
  {
   "cell_type": "markdown",
   "metadata": {},
   "source": [
    "## Mutation"
   ]
  },
  {
   "cell_type": "markdown",
   "metadata": {},
   "source": [
    "We will randomly mutate one gene of each child."
   ]
  },
  {
   "cell_type": "code",
   "execution_count": 14,
   "metadata": {},
   "outputs": [],
   "source": [
    "random.seed(1)\n",
    "def mutate(robot):\n",
    "    '''\n",
    "    '''\n",
    "    #Original DNA:\n",
    "    order_string = robot.order_string\n",
    "    #Choose random gene to mutate:\n",
    "    i = random.randint(0, len(order_string)-1)\n",
    "    gene = order_string[i]\n",
    "    #Mutate gene:\n",
    "    gene = random.choice(['u', 'd', 'l', 'r']) #Notice the gene can actually remain unmutated.\n",
    "    #Change DNA:\n",
    "    order_list = list(order_string) #Lists are easier and more officient to handle when assigning values.\n",
    "    order_list[i] = gene\n",
    "    mutated_order_string = ''.join(order_list)\n",
    "    #Create mutated robot, with same ID as the original:\n",
    "    mutated_robot = Robot(x, y, ID, mutated_order_string)\n",
    "    return mutated_robot"
   ]
  },
  {
   "cell_type": "code",
   "execution_count": 15,
   "metadata": {},
   "outputs": [
    {
     "name": "stdout",
     "output_type": "stream",
     "text": [
      "Original:  urrdddlruurdrudlur\n",
      "Mutated:  urrdudlruurdrudlur\n"
     ]
    }
   ],
   "source": [
    "#Example:\n",
    "print('Original: ', robots[0].order_string)\n",
    "print('Mutated: ',mutate(robots[0]).order_string)"
   ]
  },
  {
   "cell_type": "markdown",
   "metadata": {},
   "source": [
    "Notice it was the second 'd' that mutated to a 'u'."
   ]
  },
  {
   "cell_type": "markdown",
   "metadata": {},
   "source": [
    "## The loop"
   ]
  },
  {
   "cell_type": "code",
   "execution_count": 34,
   "metadata": {},
   "outputs": [
    {
     "name": "stdout",
     "output_type": "stream",
     "text": [
      "9\n",
      "iterations: 0, best fitness: 8\n"
     ]
    },
    {
     "data": {
      "image/png": "[encoded data removed]",
      "text/plain": [
       "<Figure size 432x288 with 1 Axes>"
      ]
     },
     "metadata": {
      "needs_background": "light"
     },
     "output_type": "display_data"
    },
    {
     "name": "stdout",
     "output_type": "stream",
     "text": [
      "iterations: 5, best fitness: 7\n",
      "iterations: 10, best fitness: 9\n",
      "iterations: 15, best fitness: 8\n",
      "iterations: 20, best fitness: 10\n"
     ]
    },
    {
     "data": {
      "image/png": "[encoded data removed]",
      "text/plain": [
       "<Figure size 432x288 with 1 Axes>"
      ]
     },
     "metadata": {
      "needs_background": "light"
     },
     "output_type": "display_data"
    },
    {
     "name": "stdout",
     "output_type": "stream",
     "text": [
      "iterations: 25, best fitness: 11\n",
      "iterations: 30, best fitness: 11\n",
      "iterations: 35, best fitness: 14\n",
      "iterations: 40, best fitness: 14\n"
     ]
    },
    {
     "data": {
      "image/png": "[encoded data removed]",
      "text/plain": [
       "<Figure size 432x288 with 1 Axes>"
      ]
     },
     "metadata": {
      "needs_background": "light"
     },
     "output_type": "display_data"
    },
    {
     "name": "stdout",
     "output_type": "stream",
     "text": [
      "iterations: 45, best fitness: 16\n",
      "iterations: 50, best fitness: 15\n",
      "iterations: 55, best fitness: 14\n",
      "iterations: 60, best fitness: 15\n"
     ]
    },
    {
     "data": {
      "image/png": "[encoded data removed]",
      "text/plain": [
       "<Figure size 432x288 with 1 Axes>"
      ]
     },
     "metadata": {
      "needs_background": "light"
     },
     "output_type": "display_data"
    },
    {
     "name": "stdout",
     "output_type": "stream",
     "text": [
      "iterations: 65, best fitness: 15\n",
      "iterations: 70, best fitness: 14\n",
      "iterations: 75, best fitness: 14\n",
      "iterations: 80, best fitness: 15\n"
     ]
    },
    {
     "data": {
      "image/png": "[encoded data removed]",
      "text/plain": [
       "<Figure size 432x288 with 1 Axes>"
      ]
     },
     "metadata": {
      "needs_background": "light"
     },
     "output_type": "display_data"
    },
    {
     "name": "stdout",
     "output_type": "stream",
     "text": [
      "iterations: 85, best fitness: 13\n",
      "iterations: 90, best fitness: 14\n",
      "iterations: 95, best fitness: 12\n",
      "iterations: 100, best fitness: 11\n"
     ]
    },
    {
     "data": {
      "image/png": "[encoded data removed]",
      "text/plain": [
       "<Figure size 432x288 with 1 Axes>"
      ]
     },
     "metadata": {
      "needs_background": "light"
     },
     "output_type": "display_data"
    },
    {
     "name": "stdout",
     "output_type": "stream",
     "text": [
      "iterations: 105, best fitness: 16\n",
      "iterations: 110, best fitness: 14\n",
      "iterations: 115, best fitness: 14\n",
      "iterations: 120, best fitness: 15\n"
     ]
    },
    {
     "data": {
      "image/png": "[encoded data removed]",
      "text/plain": [
       "<Figure size 432x288 with 1 Axes>"
      ]
     },
     "metadata": {
      "needs_background": "light"
     },
     "output_type": "display_data"
    },
    {
     "name": "stdout",
     "output_type": "stream",
     "text": [
      "iterations: 125, best fitness: 14\n",
      "iterations: 130, best fitness: 12\n",
      "iterations: 135, best fitness: 16\n"
     ]
    },
    {
     "data": {
      "image/png": "[encoded data removed]",
      "text/plain": [
       "<Figure size 432x288 with 1 Axes>"
      ]
     },
     "metadata": {
      "needs_background": "light"
     },
     "output_type": "display_data"
    }
   ],
   "source": [
    "random.seed(1)\n",
    "initialize_robots()\n",
    "\n",
    "#I will store all the robot generations in a list so that it is easy to analyze the results and observe the evolution throughout the generations.\n",
    "robot_gens = []\n",
    "\n",
    "#Initialize best fitness.\n",
    "fitness_levels = [fitness(robot) for robot in robots]\n",
    "best_robot_fitness = max(fitness_levels)\n",
    "print(best_robot_fitness)\n",
    "\n",
    "fitness_log = [] #Will be used to plot the (best) fitness against iters.\n",
    "\n",
    "iters = 0\n",
    "max_iters = 200\n",
    "while best_robot_fitness < max_fitness and iters <= max_iters: #That is, while no robot finishes at the goal position.\n",
    "    robot_gens.append(robots) #Add current generation (population) to the dictionary of robot generations.\n",
    "    #Selection of the fittest:\n",
    "    selected_robots = selection(robots)[0]\n",
    "    #Create children:\n",
    "    for j in range(pop_number//2): #Will have pop_number/2 pairs of parents.\n",
    "        parent1 = selected_robots[j]\n",
    "        parent2 = selected_robots[pop_number//2 + j] #Easy way to select parents without (explicit) repetition.\n",
    "        ID1, ID2 = j, pop_number//2 + j #Children will have same IDs as parents (in selected_robots, not robots - but it doesn't matter since len(selected_robots)=len(robots).\n",
    "        child1, child2 = create_children(parent1, parent2, ID1, ID2)\n",
    "        #Mutation\n",
    "        child1, child2 = mutate(child1), mutate(child2)\n",
    "        #Update robots list to included new (mutated) generation.\n",
    "        robots[ID1], robots[ID2] = child1, child2\n",
    "    #Update max_fitness:\n",
    "    fitness_levels = [fitness(robot) for robot in robots]\n",
    "    best_robot_fitness = max(fitness_levels)\n",
    "    fitness_log.append(best_robot_fitness)\n",
    "    #Print iterations and fitness info every 5 iterations:\n",
    "    if iters%5 == 0: \n",
    "        print('iterations: {}, best fitness: {}'.format(iters, best_robot_fitness))\n",
    "        #Visualize the best robot every 20 iterations. (Notice that this sits well inside the other if statement since 20%5==0)\n",
    "        if iters%20 == 0:\n",
    "            #Get the best robot of this generation:\n",
    "            best_robot_index = fitness_levels.index(best_robot_fitness)\n",
    "            best_robot = robots[best_robot_index]\n",
    "            #Draw its trail:\n",
    "            draw_trail(best_robot, goal)\n",
    "            plt.show()\n",
    "    #Update iters:\n",
    "    iters += 1\n",
    "#Get the best robot the final generation.\n",
    "best_robot_index = fitness_levels.index(best_robot_fitness)\n",
    "best_robot = robots[best_robot_index]\n",
    "#Draw its trail:\n",
    "draw_trail(best_robot, goal)\n",
    "plt.show()"
   ]
  },
  {
   "cell_type": "code",
   "execution_count": 40,
   "metadata": {},
   "outputs": [
    {
     "data": {
      "image/png": "[encoded data removed]",
      "text/plain": [
       "<Figure size 432x288 with 1 Axes>"
      ]
     },
     "metadata": {
      "needs_background": "light"
     },
     "output_type": "display_data"
    }
   ],
   "source": [
    "plt.figure()\n",
    "plt.title('Best fitness against iteration number')\n",
    "plt.xlabel('iterations')\n",
    "plt.ylabel('fitness of the best robot')\n",
    "plt.plot(range(iters), fitness_log)\n",
    "plt.show()"
   ]
  },
  {
   "cell_type": "markdown",
   "metadata": {},
   "source": [
    "## It worked!!"
   ]
  },
  {
   "cell_type": "markdown",
   "metadata": {},
   "source": [
    "To do:\n",
    "- Try mutation that affects more if fitness is low!! Less analogous to biology, but more efficient.\n",
    "- Add possibility of mutating more than one gene.\n",
    "- add obstacles.\n",
    "- If the goal is in the middle, the robot can reach it sooner, and then go back, and have a high fitness! Maybe try to solve this to speed up convergence.\n",
    "- Maybe select number of robots in initial population in accordance to the # of parameters and/or distance to the goal?\n",
    "- do same in torus.\n",
    "- explore 'variable space'.\n",
    "- add option to kill all humans."
   ]
  },
  {
   "cell_type": "markdown",
   "metadata": {},
   "source": [
    "## References\n",
    "\n",
    "- [Norvig]: Russell, Stuart J., and Peter Norvig. *Artificial intelligence: a modern approach*. Malaysia; Pearson Education Limited,, 2016."
   ]
  },
  {
   "cell_type": "code",
   "execution_count": null,
   "metadata": {},
   "outputs": [],
   "source": []
  }
 ],
 "metadata": {
  "kernelspec": {
   "display_name": "Python 3",
   "language": "python",
   "name": "python3"
  },
  "language_info": {
   "codemirror_mode": {
    "name": "ipython",
    "version": 3
   },
   "file_extension": ".py",
   "mimetype": "text/x-python",
   "name": "python",
   "nbconvert_exporter": "python",
   "pygments_lexer": "ipython3",
   "version": "3.7.4"
  }
 },
 "nbformat": 4,
 "nbformat_minor": 4
}
